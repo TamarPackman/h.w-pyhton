{
 "cells": [
  {
   "cell_type": "code",
   "execution_count": 4,
   "id": "a274e790-4ad1-46ca-8551-ad6c76867355",
   "metadata": {},
   "outputs": [],
   "source": [
    "import numpy as np"
   ]
  },
  {
   "cell_type": "code",
   "execution_count": 7,
   "id": "c7543430-a996-44d6-9b07-af374ee235ae",
   "metadata": {
    "scrolled": true
   },
   "outputs": [
    {
     "data": {
      "text/plain": [
       "array([20, 99, 17, 33, 57, 65, 31, 23, 90, 78, 26, 43, 51,  2, 86, 75, 87,\n",
       "       77, 82, 37], dtype=int32)"
      ]
     },
     "execution_count": 7,
     "metadata": {},
     "output_type": "execute_result"
    }
   ],
   "source": [
    "random_int_array = np.random.randint(1, 100, size=(20))\n",
    "random_int_array"
   ]
  },
  {
   "cell_type": "code",
   "execution_count": 9,
   "id": "a9663f7d-64bd-4d41-bb41-9f2e4c930036",
   "metadata": {
    "scrolled": true
   },
   "outputs": [
    {
     "data": {
      "text/plain": [
       "array([99, 57, 65, 90, 78, 51, 86, 75, 87, 77, 82], dtype=int32)"
      ]
     },
     "execution_count": 9,
     "metadata": {},
     "output_type": "execute_result"
    }
   ],
   "source": [
    "\n",
    "condition = random_int_array > 50\n",
    "filtered_arr = rando\n",
    "m_int_array[condition]\n",
    "filtered_arr"
   ]
  },
  {
   "cell_type": "code",
   "execution_count": 8,
   "id": "7efb1219-0780-4ef0-a462-91865447dfef",
   "metadata": {
    "scrolled": true
   },
   "outputs": [
    {
     "data": {
      "text/plain": [
       "array([46, 24, 17], dtype=int32)"
      ]
     },
     "execution_count": 8,
     "metadata": {},
     "output_type": "execute_result"
    }
   ],
   "source": [
    "arr1 = np.random.randint(1, 100, size=(3))\n",
    "arr2 = np.random.randint(1, 100, size=(3))\n",
    "arr2"
   ]
  },
  {
   "cell_type": "code",
   "execution_count": 9,
   "id": "96c27edf-eb03-4a5d-99b8-ff99fe7d905f",
   "metadata": {},
   "outputs": [
    {
     "data": {
      "text/plain": [
       "array([79, 14, 83], dtype=int32)"
      ]
     },
     "execution_count": 9,
     "metadata": {},
     "output_type": "execute_result"
    }
   ],
   "source": [
    "arr1"
   ]
  },
  {
   "cell_type": "code",
   "execution_count": 11,
   "id": "819d92c6-b33d-4b15-b4a8-3a23f6e3ee70",
   "metadata": {},
   "outputs": [
    {
     "data": {
      "text/plain": [
       "array([125,  38, 100], dtype=int32)"
      ]
     },
     "execution_count": 11,
     "metadata": {},
     "output_type": "execute_result"
    }
   ],
   "source": [
    "ab = arr1 + arr2\n",
    "ab"
   ]
  },
  {
   "cell_type": "code",
   "execution_count": 15,
   "id": "c7ea68ab-f487-49b6-9056-b129c9366603",
   "metadata": {},
   "outputs": [
    {
     "data": {
      "text/plain": [
       "np.float64(87.66666666666667)"
      ]
     },
     "execution_count": 15,
     "metadata": {},
     "output_type": "execute_result"
    }
   ],
   "source": [
    "average = np.mean(ab)\n",
    "average"
   ]
  },
  {
   "cell_type": "code",
   "execution_count": null,
   "id": "e9f728d7-d9d0-4b89-87b9-646141fbc113",
   "metadata": {},
   "outputs": [],
   "source": []
  }
 ],
 "metadata": {
  "kernelspec": {
   "display_name": "Python 3 (ipykernel)",
   "language": "python",
   "name": "python3"
  },
  "language_info": {
   "codemirror_mode": {
    "name": "ipython",
    "version": 3
   },
   "file_extension": ".py",
   "mimetype": "text/x-python",
   "name": "python",
   "nbconvert_exporter": "python",
   "pygments_lexer": "ipython3",
   "version": "3.13.2"
  }
 },
 "nbformat": 4,
 "nbformat_minor": 5
}
